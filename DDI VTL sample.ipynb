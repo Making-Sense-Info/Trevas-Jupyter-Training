{
 "cells": [
  {
   "cell_type": "markdown",
   "id": "f6353f99-8cc0-4fd9-b934-12fbd5a973f0",
   "metadata": {},
   "source": [
    "# VTL / DDI"
   ]
  },
  {
   "cell_type": "markdown",
   "id": "cd7396fa-8c25-4e28-9d1a-062ac178f09b",
   "metadata": {},
   "source": [
    "## Load data"
   ]
  },
  {
   "cell_type": "code",
   "execution_count": 6,
   "id": "f2c7ff76-3122-4229-86ca-5bc4a3322d22",
   "metadata": {
    "tags": [],
    "vscode": {
     "languageId": "trevas vtl engine"
    }
   },
   "outputs": [
    {
     "data": {},
     "execution_count": 6,
     "metadata": {},
     "output_type": "execute_result"
    }
   ],
   "source": [
    "input_table := loadCSV(\"data/ddi/mapping_pasrau_mad_etab_ok.csv\");"
   ]
  },
  {
   "cell_type": "markdown",
   "id": "4a8b6df4-cc9a-42fb-931c-6f2a085668db",
   "metadata": {},
   "source": [
    "## Print metadata"
   ]
  },
  {
   "cell_type": "code",
   "execution_count": null,
   "id": "7ffecae8-0469-40a8-b222-1044c2ad82d5",
   "metadata": {
    "tags": [],
    "vscode": {
     "languageId": "trevas vtl engine"
    }
   },
   "outputs": [],
   "source": [
    "p := showMetadata(input_table);"
   ]
  },
  {
   "cell_type": "markdown",
   "id": "35f3caea-21a2-4eef-bd4f-4f973d4b3ce4",
   "metadata": {},
   "source": [
    "## Print data"
   ]
  },
  {
   "cell_type": "code",
   "execution_count": null,
   "id": "805fe9c2-c32c-48d8-a668-0336876e8bc2",
   "metadata": {
    "tags": [],
    "vscode": {
     "languageId": "trevas vtl engine"
    }
   },
   "outputs": [],
   "source": [
    "p := show(input_table);"
   ]
  },
  {
   "cell_type": "markdown",
   "id": "7a11179f-f62d-46b9-8407-1a9d5fbbfb6b",
   "metadata": {},
   "source": [
    "## Execute DDI VTL generated script"
   ]
  },
  {
   "cell_type": "code",
   "execution_count": 9,
   "id": "79f66a6b-ffe1-4acf-b85e-574e52fee996",
   "metadata": {
    "tags": [],
    "vscode": {
     "languageId": "trevas vtl engine"
    }
   },
   "outputs": [
    {
     "data": {},
     "execution_count": 9,
     "metadata": {},
     "output_type": "execute_result"
    }
   ],
   "source": [
    "ETAB <- input_table[keep mois_decl, code_decl, id_mad_etab, siren, raison_soc, nic_etab];\n",
    "ETAB <- ETAB [calc identifier siren := siren, identifier nic_etab := nic_etab];\n",
    "define datapoint ruleset dpr_ETAB (variable mois_decl, code_decl, id_mad_etab, siren, raison_soc) is\n",
    "rule_mois_decl : match_characters(mois_decl, \"^\\d{4}-(((0)[0-9])|((1)[0-2]))-([0-2][0-9]|(3)[0-1])$\") errorcode \"Date format YYYY-MM-DD not valid\";\n",
    "rule_code_decl : code_decl in {\"11\",\"13\"} errorcode \"Code value not valid\";\n",
    "rule_id_mad_etab : between(cast(id_mad_etab, number), 1, 999) errorcode \"Value out of bounds\";\n",
    "rule_siren : between(length(siren), 9, 9) and match_characters(siren, \"[0-9]*[1-9][0-9]*\") errorcode \"Value out of bounds or not matched with regular expression\"\n",
    "end datapoint ruleset;\n",
    "ds_ETAB_validation_all <- check_datapoint(ETAB, dpr_ETAB all);\n",
    "ds_ETAB_validation_invalid <- check_datapoint(ETAB, dpr_ETAB invalid);"
   ]
  },
  {
   "cell_type": "markdown",
   "id": "2cda6b2d-f17c-41b0-a401-9e17a5e6f082",
   "metadata": {},
   "source": [
    "## Write `ds_ETAB_validation_all` and `ds_ETAB_validation_invalid`"
   ]
  },
  {
   "cell_type": "code",
   "execution_count": 10,
   "id": "998f5ac7-ca07-4aec-8f96-272fd8c94ad3",
   "metadata": {
    "tags": [],
    "vscode": {
     "languageId": "trevas vtl engine"
    }
   },
   "outputs": [
    {
     "data": {},
     "execution_count": 10,
     "metadata": {},
     "output_type": "execute_result"
    }
   ],
   "source": [
    "w1 := writeCSV(\"data/ddi/res/ds_ETAB_validation_all\", ds_ETAB_validation_all);\n",
    "w2 := writeCSV(\"data/ddi/res/ds_ETAB_validation_invalid\", ds_ETAB_validation_invalid);"
   ]
  }
 ],
 "metadata": {
  "kernelspec": {
   "display_name": "Trevas VTL",
   "language": "vtl",
   "name": "trevas"
  },
  "language_info": {
   "file_extension": ".txt",
   "mimetype": "text/plain",
   "name": "Trevas VTL engine"
  }
 },
 "nbformat": 4,
 "nbformat_minor": 5
}
