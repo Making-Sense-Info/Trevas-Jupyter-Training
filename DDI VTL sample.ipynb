{
 "cells": [
  {
   "cell_type": "markdown",
   "id": "f6353f99-8cc0-4fd9-b934-12fbd5a973f0",
   "metadata": {},
   "source": [
    "# VTL / DDI"
   ]
  },
  {
   "cell_type": "markdown",
   "id": "cd7396fa-8c25-4e28-9d1a-062ac178f09b",
   "metadata": {},
   "source": [
    "## Load data"
   ]
  },
  {
   "cell_type": "code",
   "execution_count": 6,
   "id": "f2c7ff76-3122-4229-86ca-5bc4a3322d22",
   "metadata": {
    "tags": []
   },
   "outputs": [
    {
     "data": {},
     "execution_count": 6,
     "metadata": {},
     "output_type": "execute_result"
    }
   ],
   "source": [
    "input_table := loadCSV(\"data/ddi/mapping_pasrau_mad_etab_ok.csv\");"
   ]
  },
  {
   "cell_type": "markdown",
   "id": "4a8b6df4-cc9a-42fb-931c-6f2a085668db",
   "metadata": {},
   "source": [
    "## Print metadata"
   ]
  },
  {
   "cell_type": "code",
   "execution_count": 7,
   "id": "7ffecae8-0469-40a8-b222-1044c2ad82d5",
   "metadata": {
    "tags": []
   },
   "outputs": [
    {
     "data": {
      "text/html": [
       "<ul><li>cat_jur (MEASURE - String)</li>\n",
       "<li>siren (MEASURE - String)</li>\n",
       "<li>secteur_activ (MEASURE - String)</li>\n",
       "<li>mois_decl (MEASURE - String)</li>\n",
       "<li>adresse_siege (MEASURE - String)</li>\n",
       "<li>cp_siege (MEASURE - String)</li>\n",
       "<li>libcom_etab (MEASURE - String)</li>\n",
       "<li>id_mad_etab (MEASURE - String)</li>\n",
       "<li>siret (MEASURE - String)</li>\n",
       "<li>nic_etab (MEASURE - String)</li>\n",
       "<li>compladr_siege (MEASURE - String)</li>\n",
       "<li>raison_soc (MEASURE - String)</li>\n",
       "<li>cp_etab (MEASURE - String)</li>\n",
       "<li>adresse_etab (MEASURE - String)</li>\n",
       "<li>enseigne (MEASURE - String)</li>\n",
       "<li>apet (MEASURE - String)</li>\n",
       "<li>libcom_siege (MEASURE - String)</li>\n",
       "<li>apen (MEASURE - String)</li>\n",
       "<li>code_decl (MEASURE - String)</li>\n",
       "<li>nic_siege (MEASURE - String)</li>\n",
       "<li>id_source (MEASURE - String)</li>\n",
       "<li>date_ech (MEASURE - String)</li>\n",
       "<li>compladr_etab (MEASURE - String)</li>\n",
       "<li>version_norm (MEASURE - String)</li>\n",
       "</ul>"
      ]
     },
     "execution_count": 7,
     "metadata": {},
     "output_type": "execute_result"
    }
   ],
   "source": [
    "p := showMetadata(input_table);"
   ]
  },
  {
   "cell_type": "markdown",
   "id": "35f3caea-21a2-4eef-bd4f-4f973d4b3ce4",
   "metadata": {},
   "source": [
    "## Print data"
   ]
  },
  {
   "cell_type": "code",
   "execution_count": 8,
   "id": "805fe9c2-c32c-48d8-a668-0336876e8bc2",
   "metadata": {
    "tags": []
   },
   "outputs": [
    {
     "data": {
      "text/html": [
       "<table id='dataset_11094053' class='display'><thead><tr><th>cat_jur</th><th>siren</th><th>secteur_activ</th><th>mois_decl</th><th>adresse_siege</th><th>cp_siege</th><th>libcom_etab</th><th>id_mad_etab</th><th>siret</th><th>nic_etab</th><th>compladr_siege</th><th>raison_soc</th><th>cp_etab</th><th>adresse_etab</th><th>enseigne</th><th>apet</th><th>libcom_siege</th><th>apen</th><th>code_decl</th><th>nic_siege</th><th>id_source</th><th>date_ech</th><th>compladr_etab</th><th>version_norm</th></tr></thead><tbody><tr><td>7323</td><td>298207101</td><td>null</td><td>2022-09-01</td><td>2 route de Lavaur</td><td>82710</td><td>BRESSOLS</td><td>1.0</td><td>0</td><td>00015</td><td>null</td><td>ASS FONCIERE REMEMBREMENT DE BRESSOLS</td><td>82710</td><td>2 route de Lavaur</td><td>null</td><td>4299Z</td><td>BRESSOLS</td><td>4299Z</td><td>11</td><td>null</td><td>DEFAULT_PA-2209M-0002744591-INSEE_PN-INSEE/PA-10b9fc85114f7ba03e0173-1-INSEE_PN-0078072441_20221109.xml</td><td>2022-10-10</td><td>null</td><td>P20V02</td></tr><tr><td>7321</td><td>298201377</td><td>null</td><td>2022-09-01</td><td>2 route de Lavaur</td><td>82710</td><td>BRESSOLS</td><td>1.0</td><td>0</td><td>00017</td><td>null</td><td>ASS SYND AUTORISEE DE VERLHAGUET</td><td>82710</td><td>2 route de Lavaur</td><td>null</td><td>4299Z</td><td>BRESSOLS</td><td>4299Z</td><td>11</td><td>null</td><td>DEFAULT_PA-2209M-0002744591-INSEE_PN-INSEE/PA-10b9fc85143ce813898179-1-INSEE_PN-0078072401_20221109.xml</td><td>2022-10-10</td><td>null</td><td>P20V02</td></tr><tr><td>5710</td><td>890253057</td><td>null</td><td>2022-09-01</td><td>4 PLACE SAINT MICHEL</td><td>72000</td><td>LE MANS</td><td>1.0</td><td>0</td><td>00016</td><td>null</td><td>9WAGRAM</td><td>72000</td><td>4 PLACE SAINT MICHEL</td><td>null</td><td>5510Z</td><td>LE MANS</td><td>5510Z</td><td>11</td><td>null</td><td>DEFAULT_PA-2209M-0002741981-INSEE_PN-INSEE/PA-10b9fc78bd3a96b0dd9fa9-1-INSEE_PN-0078066191_20221108.xml</td><td>2022-10-10</td><td>null</td><td>P20V02</td></tr><tr><td>7381</td><td>180070047</td><td>null</td><td>2022-09-01</td><td>9 AVENUE GEORGE V</td><td>75008</td><td>PARIS</td><td>1.0</td><td>0</td><td>00014</td><td>null</td><td>CHAMBRES D AGRICULTURE FRANCE</td><td>75008</td><td>9 AVENUE GEORGE V</td><td>null</td><td>9411Z</td><td>PARIS</td><td>9411Z</td><td>11</td><td>null</td><td>DEFAULT_PA-2209M-0002741391-INSEE_PN-INSEE/PA-10b9fc7876c920b0425f65-1-INSEE_PN-0078065411_20221108.xml</td><td>2022-10-10</td><td>null</td><td>P20V02</td></tr><tr><td>8130</td><td>343505855</td><td>null</td><td>2022-07-01</td><td>22 RUE DU CHATEAU</td><td>92200</td><td>NEUILLY SUR SEINE</td><td>1.0</td><td>0</td><td>00035</td><td>null</td><td>CAISSE RETRAITE GROUPE BANQUE POPULAIRE</td><td>92200</td><td>22 RUE DU CHATEAU</td><td>null</td><td>8430B</td><td>NEUILLY SUR SEINE</td><td>8430B</td><td>14</td><td>00035</td><td>DEFAULT_PA-2207M-0002745771-INSEE_PN-INSEE/PA-10b9fc857cc6c9c40d92be-1-INSEE_PN-0078076381_20221109.xml</td><td>2022-08-10</td><td>null</td><td>P21V01</td></tr><tr><td>null</td><td>853434413</td><td>null</td><td>2022-09-01</td><td>1 Hanover Street</td><td>null</td><td>ROYAUME UNI DE GRANDE BRETAGNE ET D IRLANDE DU NOR</td><td>1.0</td><td>0</td><td>00011</td><td>null</td><td>APPLE EUROPE LIMITED</td><td>null</td><td>1 Hanover Street</td><td>null</td><td>6202A</td><td>ROYAUME UNI DE GRANDE BRETAGNE ET D IRLANDE DU NOR</td><td>6202A</td><td>14</td><td>00011</td><td>DEFAULT_PA-2209M-0002745761-INSEE_PN-INSEE/PA-10b9fc85796a67fa1872a8-1-INSEE_PN-0078076301_20221109.xml</td><td>2022-10-10</td><td>null</td><td>P21V01</td></tr><tr><td>null</td><td>878347202</td><td>null</td><td>2022-09-01</td><td>1 Via Pisacane</td><td>null</td><td>ITALIE</td><td>1.0</td><td>0</td><td>00011</td><td>null</td><td>WHIRLPOOL EMEA SPA</td><td>null</td><td>1 Via Pisacane</td><td>null</td><td>6619A</td><td>Italie</td><td>6619A</td><td>14</td><td>00011</td><td>DEFAULT_PA-2209M-0002745761-INSEE_PN-INSEE/PA-10b9fc857977239b1f52aa-1-INSEE_PN-0078076291_20221109.xml</td><td>2022-10-10</td><td>null</td><td>P21V01</td></tr><tr><td>null</td><td>511359937</td><td>null</td><td>2022-09-01</td><td>2 1 40 Dojimahama Kita Ku</td><td>null</td><td>JAPON</td><td>1.0</td><td>0</td><td>00014</td><td>OSAKA</td><td>SUNTORY HOLDINGS LIMITED</td><td>null</td><td>2 1 40 Dojimahama Kita Ku</td><td>null</td><td>7010Z</td><td>JAPON</td><td>7010Z</td><td>14</td><td>00014</td><td>DEFAULT_PA-2209M-0002745761-INSEE_PN-INSEE/PA-10b9fc857982f6678122ab-1-INSEE_PN-0078076311_20221109.xml</td><td>2022-10-10</td><td>OSAKA</td><td>P21V01</td></tr><tr><td>null</td><td>847768868</td><td>null</td><td>2022-09-01</td><td>2 plaza de la Gesta Oviedo</td><td>null</td><td>ESPAGNE</td><td>1.0</td><td>0</td><td>00014</td><td>null</td><td>EDP RENOVAVEIS SA</td><td>null</td><td>2 plaza de la Gesta Oviedo</td><td>null</td><td>4321A</td><td>ESPAGNE</td><td>4321A</td><td>14</td><td>00014</td><td>DEFAULT_PA-2209M-0002745761-INSEE_PN-INSEE/PA-10b9fc85798de05f3de2ac-1-INSEE_PN-0078076281_20221109.xml</td><td>2022-10-10</td><td>null</td><td>P21V01</td></tr><tr><td>3220</td><td>891920332</td><td>null</td><td>2022-09-01</td><td>450S MERIDIAN STREET 99404 INDIANAPOLIS</td><td>null</td><td>ETATS UNIS D AMERIQUE</td><td>1.0</td><td>0</td><td>00014</td><td>null</td><td>ROLLS ROYCE CORPORATION</td><td>null</td><td>450S MERIDIAN STREET 99404 INDIANAPOLIS</td><td>ROLLS ROYCE CORPORATION</td><td>2811Z</td><td>ETATS UNIS D AMERIQUE</td><td>2811Z</td><td>14</td><td>00014</td><td>DEFAULT_PA-2209M-0002745761-INSEE_PN-INSEE/PA-10b9fc857999b32b9fb2ad-1-INSEE_PN-0078076341_20221109.xml</td><td>2022-10-10</td><td>null</td><td>P21V01</td></tr><tr><td>null</td><td>435304118</td><td>null</td><td>2022-09-01</td><td>General Ledger Dept</td><td>null</td><td>PAYS BAS</td><td>1.0</td><td>0</td><td>00019</td><td>Gooimer 10</td><td>GENZYME EUROPE BV</td><td>null</td><td>General Ledger Dept</td><td>null</td><td>4690Z</td><td>PAYS BAS</td><td>4690Z</td><td>14</td><td>00019</td><td>DEFAULT_PA-2209M-0002745761-INSEE_PN-INSEE/PA-10b9fc8579cad0067112ae-1-INSEE_PN-0078076351_20221109.xml</td><td>2022-10-10</td><td>Gooimer 10</td><td>P21V01</td></tr><tr><td>3220</td><td>893041020</td><td>null</td><td>2022-09-01</td><td>1209 ORANGE STREET 19801 WILMINGTON</td><td>null</td><td>ETATS UNIS D AMERIQUE</td><td>1.0</td><td>0</td><td>00015</td><td>null</td><td>ECOLAB INC</td><td>null</td><td>1209 ORANGE STREET 19801 WILMINGTON</td><td>ECOLAB INC</td><td>2041Z</td><td>ETATS UNIS D AMERIQUE</td><td>2041Z</td><td>14</td><td>00015</td><td>DEFAULT_PA-2209M-0002745761-INSEE_PN-INSEE/PA-10b9fc8579d3e854e3b2af-1-INSEE_PN-0078076371_20221109.xml</td><td>2022-10-10</td><td>null</td><td>P21V01</td></tr><tr><td>null</td><td>847762028</td><td>null</td><td>2022-09-01</td><td>One Onslow Street GU 14S Guilford</td><td>null</td><td>Guilford</td><td>1.0</td><td>0</td><td>00011</td><td>Surrey</td><td>AVENTIS PHARMA LIMITED</td><td>null</td><td>One Onslow Street GU 14S Guilford</td><td>null</td><td>7219Z</td><td>Guilford</td><td>7219Z</td><td>14</td><td>00011</td><td>DEFAULT_PA-2209M-0002745761-INSEE_PN-INSEE/PA-10b9fc8579dfbb214582b0-1-INSEE_PN-0078076271_20221109.xml</td><td>2022-10-10</td><td>Surrey</td><td>P21V01</td></tr><tr><td>7430</td><td>186704375</td><td>null</td><td>2022-09-01</td><td>null</td><td>67360</td><td>WALBOURG</td><td>1.0</td><td>0</td><td>00010</td><td>93A GRAND RUE</td><td>CONSEIL FABRIQUE DE L EGLISE CATHOLIQUE</td><td>67360</td><td>null</td><td>null</td><td>9491Z</td><td>WALBOURG</td><td>9491Z</td><td>11</td><td>null</td><td>DEFAULT_PA-2209M-0002746361-INSEE_PN-INSEE/PA-10b9fc860c4ba5470b639c-2-INSEE_PN-0078078171_20221109.xml</td><td>2022-10-10</td><td>93A GRAND RUE</td><td>P20V02</td></tr><tr><td>3220</td><td>911344182</td><td>null</td><td>2022-09-01</td><td>2800 HIGH MEADOW CIRCLE</td><td>null</td><td>ETATS UNIS D AMERIQUE</td><td>1.0</td><td>0</td><td>00017</td><td>48326 AUBURN HILLS MICHIGAN</td><td>FAURECIA USA HOLDINGS INC</td><td>null</td><td>2800 HIGH MEADOW CIRCLE</td><td>FAURECIA USA HOLDINGS INC</td><td>4531Z</td><td>ETATS UNIS D AMERIQUE</td><td>4531Z</td><td>14</td><td>00017</td><td>DEFAULT_PA-2209M-0002745761-INSEE_PN-INSEE/PA-10b9fc857a38dc8875a2b2-1-INSEE_PN-0078076321_20221109.xml</td><td>2022-10-10</td><td>48326 AUBURN HILLS MICHIGAN</td><td>P21V01</td></tr><tr><td>null</td><td>852967504</td><td>null</td><td>2022-09-01</td><td>41 LOTHBURY</td><td>null</td><td>ROYAUME UNI DE GRANDE BRETAGNE ET D IRLANDE DU NOR</td><td>1.0</td><td>0</td><td>00014</td><td>null</td><td>AMUNDI UK LIMITED</td><td>null</td><td>41 LOTHBURY</td><td>null</td><td>6619A</td><td>ROYAUME UNI DE GRANDE BRETAGNE ET D IRLANDE DU NOR</td><td>6619A</td><td>14</td><td>00014</td><td>DEFAULT_PA-2209M-0002745761-INSEE_PN-INSEE/PA-10b9fc857a4598297c82b3-1-INSEE_PN-0078076361_20221109.xml</td><td>2022-10-10</td><td>null</td><td>P21V01</td></tr><tr><td>null</td><td>498270776</td><td>null</td><td>2022-09-01</td><td>Minato Mirai Nishi ku Yokohama Japan</td><td>null</td><td>JAPON</td><td>1.0</td><td>0</td><td>00012</td><td>null</td><td>JGC CORPORATION</td><td>null</td><td>Minato Mirai Nishi ku Yokohama Japan</td><td>null</td><td>7320Z</td><td>JAPON</td><td>7010Z</td><td>14</td><td>00012</td><td>DEFAULT_PA-2209M-0002745761-INSEE_PN-INSEE/PA-10b9fc857a4eb077ef22b4-1-INSEE_PN-0078076331_20221109.xml</td><td>2022-10-10</td><td>null</td><td>P21V01</td></tr><tr><td>5499</td><td>477744627</td><td>null</td><td>2022-09-01</td><td>null</td><td>92310</td><td>Sevres</td><td>1.0</td><td>0</td><td>00019</td><td>null</td><td>ABSCISSE SERVICES</td><td>92310</td><td>null</td><td>null</td><td>8899B</td><td>Sevres</td><td>8899B</td><td>11</td><td>null</td><td>DEFAULT_PA-2209M-0002747361-INSEE_PN-INSEE/PA-10b9fc8633b67d44d3d3fb-1-INSEE_PN-0078080371_20221109.xml</td><td>2022-10-10</td><td>null</td><td>P20V02</td></tr></tbody></table><script\n",
       "  src=\"https://code.jquery.com/jquery-3.6.0.slim.min.js\"\n",
       "  integrity=\"sha256-u7e5khyithlIdTpu22PHhENmPcRdFiHRjhAuHcs05RI=\"\n",
       "  crossorigin=\"anonymous\"></script><link rel=\"stylesheet\" type=\"text/css\" href=\"https://cdn.datatables.net/1.12.1/css/jquery.dataTables.css\">\n",
       "  \n",
       "<script type=\"text/javascript\" charset=\"utf8\" src=\"https://cdn.datatables.net/1.12.1/js/jquery.dataTables.js\"></script>\n",
       "<script type=\"text/javascript\">$(document).ready( function () {\n",
       "    $('#dataset_11094053').DataTable();\n",
       "} );</script>"
      ]
     },
     "execution_count": 8,
     "metadata": {},
     "output_type": "execute_result"
    }
   ],
   "source": [
    "p := show(input_table);"
   ]
  },
  {
   "cell_type": "markdown",
   "id": "7a11179f-f62d-46b9-8407-1a9d5fbbfb6b",
   "metadata": {},
   "source": [
    "## Execute DDI VTL generated script"
   ]
  },
  {
   "cell_type": "code",
   "execution_count": 9,
   "id": "79f66a6b-ffe1-4acf-b85e-574e52fee996",
   "metadata": {
    "tags": []
   },
   "outputs": [
    {
     "data": {},
     "execution_count": 9,
     "metadata": {},
     "output_type": "execute_result"
    }
   ],
   "source": [
    "ETAB <- input_table[keep mois_decl, code_decl, id_mad_etab, siren, raison_soc, nic_etab];\n",
    "ETAB <- ETAB [calc identifier siren := siren, identifier nic_etab := nic_etab];\n",
    "define datapoint ruleset dpr_ETAB (variable mois_decl, code_decl, id_mad_etab, siren, raison_soc) is\n",
    "rule_mois_decl : match_characters(mois_decl, \"^\\d{4}-(((0)[0-9])|((1)[0-2]))-([0-2][0-9]|(3)[0-1])$\") errorcode \"Date format YYYY-MM-DD not valid\";\n",
    "rule_code_decl : code_decl in {\"11\",\"13\"} errorcode \"Code value not valid\";\n",
    "rule_id_mad_etab : between(cast(id_mad_etab, number), 1, 999) errorcode \"Value out of bounds\";\n",
    "rule_siren : between(length(siren), 9, 9) and match_characters(siren, \"[0-9]*[1-9][0-9]*\") errorcode \"Value out of bounds or not matched with regular expression\"\n",
    "end datapoint ruleset;\n",
    "ds_ETAB_validation_all <- check_datapoint(ETAB, dpr_ETAB all);\n",
    "ds_ETAB_validation_invalid <- check_datapoint(ETAB, dpr_ETAB invalid);"
   ]
  },
  {
   "cell_type": "markdown",
   "id": "2cda6b2d-f17c-41b0-a401-9e17a5e6f082",
   "metadata": {},
   "source": [
    "## Write `ds_ETAB_validation_all` and `ds_ETAB_validation_invalid`"
   ]
  },
  {
   "cell_type": "code",
   "execution_count": 10,
   "id": "998f5ac7-ca07-4aec-8f96-272fd8c94ad3",
   "metadata": {
    "tags": []
   },
   "outputs": [
    {
     "data": {},
     "execution_count": 10,
     "metadata": {},
     "output_type": "execute_result"
    }
   ],
   "source": [
    "w1 := writeCSV(\"data/ddi/res/ds_ETAB_validation_all\", ds_ETAB_validation_all);\n",
    "w2 := writeCSV(\"data/ddi/res/ds_ETAB_validation_invalid\", ds_ETAB_validation_invalid);"
   ]
  }
 ],
 "metadata": {
  "kernelspec": {
   "display_name": "Trevas VTL",
   "language": "vtl",
   "name": "trevas"
  },
  "language_info": {
   "file_extension": ".txt",
   "mimetype": "text/plain",
   "name": "Trevas VTL engine"
  }
 },
 "nbformat": 4,
 "nbformat_minor": 5
}
