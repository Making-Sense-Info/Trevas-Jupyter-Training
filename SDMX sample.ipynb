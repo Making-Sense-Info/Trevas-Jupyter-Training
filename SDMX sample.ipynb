{
 "cells": [
  {
   "cell_type": "markdown",
   "id": "73147d2a-3074-41a7-bdae-fbd324a47ab0",
   "metadata": {
    "tags": []
   },
   "source": [
    "# Introduction to Trevas SDMX module"
   ]
  },
  {
   "cell_type": "markdown",
   "id": "a183b365-0a95-4d29-a6ee-ac446ab0d5d4",
   "metadata": {
    "tags": []
   },
   "source": [
    "Trevas Jupyter is a VTL environnement.\n",
    "Edit and execute your scripts."
   ]
  },
  {
   "cell_type": "markdown",
   "id": "a1dba949",
   "metadata": {},
   "source": [
    "## Load SDMX Source without data\n",
    "\n",
    "Get an empty dataset with the requested structure"
   ]
  },
  {
   "cell_type": "code",
   "execution_count": null,
   "id": "98fbc0ab-c060-40aa-97ad-ccd919fd1a90",
   "metadata": {
    "tags": [],
    "vscode": {
     "languageId": "trevas vtl engine"
    }
   },
   "outputs": [],
   "source": [
    "ds_empty := loadSDMXEmptySource(\"./data/sdmx/DSD_BPE_CENSUS.xml\", \"BPE_DETAIL_VTL\");\n",
    "s := showMetadata(ds_empty);\n"
   ]
  },
  {
   "cell_type": "markdown",
   "id": "574edcdb",
   "metadata": {},
   "source": [
    "## Load SDMX Source with data\n",
    "\n",
    "Get a dataset with the requested structure and data"
   ]
  },
  {
   "cell_type": "code",
   "execution_count": null,
   "id": "a7e07f9d-1fbb-48b5-8dc4-03d2108b136e",
   "metadata": {
    "tags": [],
    "vscode": {
     "languageId": "trevas vtl engine"
    }
   },
   "outputs": [],
   "source": [
    "ds := loadSDMXSource(\"./data/sdmx/DSD_BPE_CENSUS.xml\", \"BPE_DETAIL_VTL\", \"./data/sdmx/BPE_DETAIL_SAMPLE.csv\");\n",
    "s := show(ds);\n"
   ]
  },
  {
   "cell_type": "markdown",
   "id": "6a61f5dd",
   "metadata": {},
   "source": [
    "## Run SDMX Preview\n",
    "\n",
    "Run the SDMX defined VTL pipelined and obtain empty persistent datasets"
   ]
  },
  {
   "cell_type": "code",
   "execution_count": null,
   "id": "545cb312",
   "metadata": {
    "vscode": {
     "languageId": "trevas vtl engine"
    }
   },
   "outputs": [],
   "source": [
    "res_preview := runSDMXPreview(\"./data/sdmx/DSD_BPE_CENSUS.xml\");"
   ]
  },
  {
   "cell_type": "markdown",
   "id": "d743ea24",
   "metadata": {},
   "source": [
    "## Run SDMX\n",
    "\n",
    "Run the SDMX defined VTL pipelined and obtain persistent datasets"
   ]
  },
  {
   "cell_type": "code",
   "execution_count": null,
   "id": "1eb70246",
   "metadata": {
    "vscode": {
     "languageId": "trevas vtl engine"
    }
   },
   "outputs": [],
   "source": [
    "res := runSDMX(\"./data/sdmx/DSD_BPE_CENSUS.xml\",\n",
    "                \"BPE_DETAIL_VTL,./data/sdmx/BPE_DETAIL_SAMPLE.csv,\n",
    "                LEGAL_POP,./data/sdmx/LEGAL_POP_NUTS3.csv\");"
   ]
  },
  {
   "cell_type": "markdown",
   "id": "c2f7309b",
   "metadata": {},
   "source": [
    "## Get Rulesets\n",
    "\n",
    "Get the aggregated Rulesets script defined in the SDMX file"
   ]
  },
  {
   "cell_type": "code",
   "execution_count": null,
   "id": "5dfa4b93",
   "metadata": {
    "vscode": {
     "languageId": "trevas vtl engine"
    }
   },
   "outputs": [],
   "source": [
    "rulesets := getRulesetsVTL(\"./data/sdmx/DSD_BPE_CENSUS.xml\");"
   ]
  },
  {
   "cell_type": "markdown",
   "id": "72f88fa2",
   "metadata": {},
   "source": [
    "## Get Transformations VTL\n",
    "\n",
    "Get the aggregated VTL script defined in the SDMX file"
   ]
  },
  {
   "cell_type": "code",
   "execution_count": null,
   "id": "56aa329e",
   "metadata": {
    "vscode": {
     "languageId": "trevas vtl engine"
    }
   },
   "outputs": [],
   "source": [
    "vtl := getTransformationsVTL(\"./data/sdmx/DSD_BPE_CENSUS.xml\");"
   ]
  }
 ],
 "metadata": {
  "kernelspec": {
   "display_name": "Trevas VTL",
   "language": "vtl",
   "name": "trevas"
  },
  "language_info": {
   "file_extension": ".txt",
   "mimetype": "text/plain",
   "name": "Trevas VTL engine"
  }
 },
 "nbformat": 4,
 "nbformat_minor": 5
}
