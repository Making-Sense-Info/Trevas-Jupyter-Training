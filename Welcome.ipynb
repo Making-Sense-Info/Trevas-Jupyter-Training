{
 "cells": [
  {
   "cell_type": "markdown",
   "id": "73147d2a-3074-41a7-bdae-fbd324a47ab0",
   "metadata": {
    "tags": []
   },
   "source": [
    "# Welcome to Trevas Jupyter"
   ]
  },
  {
   "cell_type": "markdown",
   "id": "a183b365-0a95-4d29-a6ee-ac446ab0d5d4",
   "metadata": {
    "tags": []
   },
   "source": [
    "Trevas Jupyter is a VTL environnement.\n",
    "Edit and execute your scripts."
   ]
  },
  {
   "cell_type": "markdown",
   "id": "e8369133-3225-4ced-87ed-de0d37f70c91",
   "metadata": {
    "tags": []
   },
   "source": [
    "## Example"
   ]
  },
  {
   "cell_type": "markdown",
   "id": "a1dba949",
   "metadata": {},
   "source": [
    "### Load datasets"
   ]
  },
  {
   "cell_type": "code",
   "execution_count": null,
   "id": "98fbc0ab-c060-40aa-97ad-ccd919fd1a90",
   "metadata": {
    "tags": [],
    "vscode": {
     "languageId": "trevas vtl engine"
    }
   },
   "outputs": [],
   "source": [
    "ds1 := loadCSV(\"./data/ds1.csv\");\n",
    "ds2 := loadCSV(\"./data/ds2.csv\");\n"
   ]
  },
  {
   "cell_type": "markdown",
   "id": "574edcdb",
   "metadata": {},
   "source": [
    "### Print metadata"
   ]
  },
  {
   "cell_type": "code",
   "execution_count": null,
   "id": "a7e07f9d-1fbb-48b5-8dc4-03d2108b136e",
   "metadata": {
    "tags": [],
    "vscode": {
     "languageId": "trevas vtl engine"
    }
   },
   "outputs": [],
   "source": [
    "s1 := showMetadata(ds1);"
   ]
  },
  {
   "cell_type": "code",
   "execution_count": null,
   "id": "b068ec7c",
   "metadata": {
    "vscode": {
     "languageId": "trevas vtl engine"
    }
   },
   "outputs": [],
   "source": [
    "s2 := showMetadata(ds2);"
   ]
  },
  {
   "cell_type": "markdown",
   "id": "6a61f5dd",
   "metadata": {},
   "source": [
    "### Define types and roles"
   ]
  },
  {
   "cell_type": "code",
   "execution_count": null,
   "id": "545cb312",
   "metadata": {
    "vscode": {
     "languageId": "trevas vtl engine"
    }
   },
   "outputs": [],
   "source": [
    "ds1 := ds1[calc identifier city := city, nb1 := cast(nb1, integer)];\n",
    "ds2 := ds2[calc identifier nuts3 := nuts3, nb2 := cast(nb2, number)];"
   ]
  },
  {
   "cell_type": "markdown",
   "id": "d743ea24",
   "metadata": {},
   "source": [
    "### Print metadata"
   ]
  },
  {
   "cell_type": "code",
   "execution_count": null,
   "id": "1eb70246",
   "metadata": {
    "vscode": {
     "languageId": "trevas vtl engine"
    }
   },
   "outputs": [],
   "source": [
    "s1 := showMetadata(ds1);"
   ]
  },
  {
   "cell_type": "code",
   "execution_count": null,
   "id": "be598180",
   "metadata": {
    "vscode": {
     "languageId": "trevas vtl engine"
    }
   },
   "outputs": [],
   "source": [
    "s2 := showMetadata(ds2);"
   ]
  },
  {
   "cell_type": "markdown",
   "id": "4c94e8c9",
   "metadata": {},
   "source": [
    "### Aggregation"
   ]
  },
  {
   "cell_type": "code",
   "execution_count": null,
   "id": "5dfa4b93",
   "metadata": {
    "vscode": {
     "languageId": "trevas vtl engine"
    }
   },
   "outputs": [],
   "source": [
    "ds1 := ds1  [calc identifier nuts3 := substr(city, 1, 2)]\n",
    "            [aggr nb1 := sum(nb1) group by nuts3];"
   ]
  },
  {
   "cell_type": "markdown",
   "id": "c2f7309b",
   "metadata": {},
   "source": [
    "### Merge"
   ]
  },
  {
   "cell_type": "code",
   "execution_count": null,
   "id": "56aa329e",
   "metadata": {
    "vscode": {
     "languageId": "trevas vtl engine"
    }
   },
   "outputs": [],
   "source": [
    "res := left_join(ds1, ds2)[calc indic := nb1 / nb2][drop nb1, nb2];\n",
    "showRes := show(res);"
   ]
  },
  {
   "cell_type": "markdown",
   "id": "6ce4d464",
   "metadata": {},
   "source": [
    "### Write dataset"
   ]
  },
  {
   "cell_type": "code",
   "execution_count": null,
   "id": "f2e936cf",
   "metadata": {
    "vscode": {
     "languageId": "trevas vtl engine"
    }
   },
   "outputs": [],
   "source": [
    "w := writeCSV(\"./res.csv\", res);"
   ]
  }
 ],
 "metadata": {
  "kernelspec": {
   "display_name": "Trevas VTL",
   "language": "vtl",
   "name": "trevas"
  },
  "language_info": {
   "file_extension": ".txt",
   "mimetype": "text/plain",
   "name": "Trevas VTL engine"
  }
 },
 "nbformat": 4,
 "nbformat_minor": 5
}
